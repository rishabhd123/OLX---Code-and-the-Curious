{
 "cells": [
  {
   "cell_type": "code",
   "execution_count": 1,
   "metadata": {
    "collapsed": true
   },
   "outputs": [],
   "source": [
    "import numpy as np\n",
    "import pandas as pd\n",
    "\n",
    "from IPython.core.interactiveshell import InteractiveShell\n",
    "InteractiveShell.ast_node_interactivity = \"all\""
   ]
  },
  {
   "cell_type": "code",
   "execution_count": 2,
   "metadata": {
    "collapsed": true
   },
   "outputs": [],
   "source": [
    "user_data = pd.read_csv('Data/user_data.csv')\n",
    "ads_data = pd.read_csv('Data/ads_data.csv')\n",
    "user_messages = pd.read_csv('Data/user_messages.csv')\n",
    "user_messages_test = pd.read_csv('Data/user_messages_test.csv')\n",
    "ads_data = ads_data.loc[ads_data.enabled==1]\n",
    "ads_data.reset_index(drop=True, inplace=True)"
   ]
  },
  {
   "cell_type": "code",
   "execution_count": 5,
   "metadata": {
    "collapsed": true
   },
   "outputs": [],
   "source": [
    "user_data.replace(to_replace={'event':{'view':0, 'first_message':1}}, inplace=True)\n",
    "user_data.replace(to_replace={'origin':{'browse_search':0, 'search':0, 'browse':0, 'home':1,\n",
    "                                       'notification_center':1, 'push':2, 'drawer':2, 'deeplink':1}}, inplace=True)\n",
    "user_data.replace(to_replace={'channel': {'android': 2, 'ios':1, 'desktop':0}}, inplace=True )"
   ]
  },
  {
   "cell_type": "code",
   "execution_count": 4,
   "metadata": {
    "collapsed": true
   },
   "outputs": [],
   "source": [
    "user_data['event_time'] = pd.to_datetime(user_data.event_time)\n",
    "user_data['event_month'] = user_data['event_time'].dt.month\n",
    "user_data['event_day'] = user_data['event_time'].dt.day\n",
    "user_data['hour'] = user_data['event_time'].dt.hour"
   ]
  },
  {
   "cell_type": "code",
   "execution_count": 5,
   "metadata": {
    "collapsed": false
   },
   "outputs": [],
   "source": [
    "from sklearn.preprocessing import LabelEncoder\n",
    "le_user_id = LabelEncoder()\n",
    "le_user_id = le_user_id.fit(list( (set(user_messages_test.user_id)).union(set(user_data.user_id)) ))\n",
    "user_data['encoded_user_id'] = le_user_id.transform(user_data.user_id)"
   ]
  },
  {
   "cell_type": "code",
   "execution_count": 6,
   "metadata": {
    "collapsed": false
   },
   "outputs": [],
   "source": [
    "le_ad_id = LabelEncoder()\n",
    "le_ad_id = le_ad_id.fit(list(set(user_data.ad_id).union(set(ads_data.ad_id))))\n",
    "user_data['encoded_ad_id'] = le_ad_id.transform(user_data.ad_id)\n",
    "ads_data['encoded_ad_id'] = le_ad_id.transform(ads_data.ad_id)"
   ]
  },
  {
   "cell_type": "code",
   "execution_count": 7,
   "metadata": {
    "collapsed": false
   },
   "outputs": [],
   "source": [
    "le_cat_id = LabelEncoder()\n",
    "ads_data['encoded_category_id'] = le_cat_id.fit_transform(ads_data.category_id)"
   ]
  },
  {
   "cell_type": "code",
   "execution_count": 8,
   "metadata": {
    "collapsed": true
   },
   "outputs": [],
   "source": [
    "from scipy import sparse"
   ]
  },
  {
   "cell_type": "code",
   "execution_count": 9,
   "metadata": {
    "collapsed": false
   },
   "outputs": [],
   "source": [
    "s3 = set(pd.unique(user_data.user_id))\n",
    "s4 = set(pd.unique(user_messages_test.user_id))\n",
    "nu = len(s3.union(s4))\n",
    "         \n",
    "s1 = set(pd.unique(ads_data.ad_id))\n",
    "s2 = set(pd.unique(user_data.ad_id))\n",
    "na = len(s1.union(s2))\n",
    "n = user_data.shape[0]\n",
    "user_ad_mat = sparse.coo_matrix( ( np.ones(n), (user_data.encoded_user_id, user_data.encoded_ad_id) ) ,shape=[nu,na])\n",
    "user_ad_mat = user_ad_mat.tocsr()"
   ]
  },
  {
   "cell_type": "code",
   "execution_count": 10,
   "metadata": {
    "collapsed": true
   },
   "outputs": [],
   "source": [
    "nc = len(pd.unique(ads_data.category_id))\n",
    "n = ads_data.shape[0]\n",
    "ad_cat_mat = sparse.coo_matrix( ( np.ones(n), ( ads_data.encoded_ad_id, ads_data.encoded_category_id )  ), shape=[na,nc] )\n",
    "ad_cat_mat = ad_cat_mat.tocsr()"
   ]
  },
  {
   "cell_type": "code",
   "execution_count": 11,
   "metadata": {
    "collapsed": true
   },
   "outputs": [],
   "source": [
    "rem_ad_id = list(set(user_data.ad_id) - set(ads_data.ad_id))\n",
    "rem_cat_id = list(np.zeros(len(rem_ad_id)))"
   ]
  },
  {
   "cell_type": "code",
   "execution_count": 12,
   "metadata": {
    "collapsed": false
   },
   "outputs": [],
   "source": [
    "ad_cat_df = pd.DataFrame(data=np.array(list(ads_data.category_id)+rem_cat_id), index=list(ads_data.ad_id)+rem_ad_id)"
   ]
  },
  {
   "cell_type": "code",
   "execution_count": 13,
   "metadata": {
    "collapsed": true
   },
   "outputs": [],
   "source": [
    "ad_info_df = pd.DataFrame(data=np.array(user_data), index=user_data.ad_id, columns=user_data.columns)"
   ]
  },
  {
   "cell_type": "code",
   "execution_count": 14,
   "metadata": {
    "collapsed": false
   },
   "outputs": [],
   "source": [
    "user_user_mat = user_ad_mat * user_ad_mat.transpose()"
   ]
  },
  {
   "cell_type": "code",
   "execution_count": 15,
   "metadata": {
    "collapsed": true
   },
   "outputs": [
    {
     "name": "stdout",
     "output_type": "stream",
     "text": [
      "0\n",
      "500\n",
      "1000\n",
      "1500\n",
      "2000\n",
      "2500\n",
      "3000\n",
      "3500\n",
      "4000\n",
      "4500\n",
      "5000\n",
      "5500\n",
      "6000\n",
      "6500\n",
      "7000\n",
      "7500\n",
      "8000\n",
      "8500\n",
      "9000\n",
      "9500\n",
      "10000\n",
      "10500\n"
     ]
    }
   ],
   "source": [
    "lst = []\n",
    "for u,c in user_messages_test.values:\n",
    "    user = user_user_mat[le_user_id.transform([u])[0],:]\n",
    "    a = np.sum(user_ad_mat.transpose().multiply(user), axis=1)\n",
    "    a = np.array(a.reshape([1,-1]))[0]\n",
    "    b = le_ad_id.inverse_transform(np.argsort(-a))\n",
    "    cat_b = ad_cat_df.loc[b]\n",
    "    cat_b = np.array(cat_b).reshape([b.shape[0]])\n",
    "    b = b[cat_b==c]\n",
    "    lst.append(str(list(b[:10])))\n",
    "    cnt+=1"
   ]
  },
  {
   "cell_type": "code",
   "execution_count": 16,
   "metadata": {
    "collapsed": true
   },
   "outputs": [],
   "source": [
    "ad_id = pd.Series(lst)\n",
    "submission = user_messages_test.copy()\n",
    "submission['ads'] = ad_id"
   ]
  },
  {
   "cell_type": "code",
   "execution_count": 18,
   "metadata": {
    "collapsed": false
   },
   "outputs": [],
   "source": [
    "submission.to_csv('sub_mat.csv', index=False)"
   ]
  }
 ],
 "metadata": {
  "kernelspec": {
   "display_name": "Python 2",
   "language": "python",
   "name": "python2"
  },
  "language_info": {
   "codemirror_mode": {
    "name": "ipython",
    "version": 2
   },
   "file_extension": ".py",
   "mimetype": "text/x-python",
   "name": "python",
   "nbconvert_exporter": "python",
   "pygments_lexer": "ipython2",
   "version": "2.7.13"
  }
 },
 "nbformat": 4,
 "nbformat_minor": 2
}
