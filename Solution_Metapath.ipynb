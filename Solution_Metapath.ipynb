{
 "cells": [
  {
   "cell_type": "code",
   "execution_count": 1,
   "metadata": {
    "collapsed": true
   },
   "outputs": [],
   "source": [
    "import numpy as np\n",
    "import pandas as pd\n",
    "\n",
    "from IPython.core.interactiveshell import InteractiveShell\n",
    "InteractiveShell.ast_node_interactivity = \"all\""
   ]
  },
  {
   "cell_type": "code",
   "execution_count": 2,
   "metadata": {
    "collapsed": true
   },
   "outputs": [],
   "source": [
    "user_data = pd.read_csv('Data/user_data.csv')\n",
    "ads_data = pd.read_csv('Data/ads_data.csv')\n",
    "user_messages = pd.read_csv('Data/user_messages.csv')\n",
    "user_messages_test = pd.read_csv('Data/user_messages_test.csv')\n",
    "ads_data = ads_data.loc[ads_data.enabled==1]"
   ]
  },
  {
   "cell_type": "code",
   "execution_count": 3,
   "metadata": {
    "collapsed": false,
    "scrolled": true
   },
   "outputs": [
    {
     "data": {
      "text/plain": [
       "645168"
      ]
     },
     "execution_count": 3,
     "metadata": {},
     "output_type": "execute_result"
    },
    {
     "data": {
      "text/plain": [
       "12365"
      ]
     },
     "execution_count": 3,
     "metadata": {},
     "output_type": "execute_result"
    }
   ],
   "source": [
    "\n",
    "# user_data.loc[user_data.event==1]['images_count']\n",
    "\n",
    "# user_data.head(50)\n",
    "# ads_data.head()\n",
    "# user_messages.head()\n",
    "# user_messages_test.head()\n",
    "# pd.unique(user_data.origin)\n",
    "# ads_data.shape\n",
    "# len(pd.unique(ads_data.ad_id))\n",
    "# user_data.loc[user_data.user_id==541]\n",
    "\n",
    "# ads_data.head()\n",
    "s1 = set(pd.unique(ads_data.ad_id))\n",
    "s2 = set(pd.unique(user_data.ad_id))\n",
    "len(s1.union(s2))\n",
    "len(pd.unique(user_data.user_id))"
   ]
  },
  {
   "cell_type": "code",
   "execution_count": 4,
   "metadata": {
    "collapsed": true
   },
   "outputs": [],
   "source": [
    "from sklearn.preprocessing import LabelEncoder\n",
    "le_user_id = LabelEncoder()\n",
    "user_data['encoded_user_id'] = le_user_id.fit_transform(user_data.user_id)"
   ]
  },
  {
   "cell_type": "code",
   "execution_count": 5,
   "metadata": {
    "collapsed": false
   },
   "outputs": [
    {
     "data": {
      "text/plain": [
       "LabelEncoder()"
      ]
     },
     "execution_count": 5,
     "metadata": {},
     "output_type": "execute_result"
    }
   ],
   "source": [
    "le_ad_id = LabelEncoder()\n",
    "le_ad_id.fit(list(set(user_data.ad_id).union(set(ads_data.ad_id))))\n",
    "user_data['encoded_ad_id'] = le_ad_id.transform(user_data.ad_id)\n",
    "ads_data['encoded_ad_id'] = le_ad_id.transform(ads_data.ad_id)"
   ]
  },
  {
   "cell_type": "code",
   "execution_count": 6,
   "metadata": {
    "collapsed": false
   },
   "outputs": [],
   "source": [
    "le_cat_id = LabelEncoder()\n",
    "ads_data['encoded_category_id'] = le_cat_id.fit_transform(ads_data.category_id)"
   ]
  },
  {
   "cell_type": "markdown",
   "metadata": {
    "collapsed": false
   },
   "source": [
    "## -------------------------"
   ]
  },
  {
   "cell_type": "code",
   "execution_count": 7,
   "metadata": {
    "collapsed": true
   },
   "outputs": [],
   "source": [
    "from scipy import sparse"
   ]
  },
  {
   "cell_type": "code",
   "execution_count": 8,
   "metadata": {
    "collapsed": false
   },
   "outputs": [],
   "source": [
    "nu = len(pd.unique(user_data.user_id))\n",
    "s1 = set(pd.unique(ads_data.ad_id))\n",
    "s2 = set(pd.unique(user_data.ad_id))\n",
    "na = len(s1.union(s2))\n",
    "n = user_data.shape[0]\n",
    "user_ad_mat = sparse.coo_matrix( ( np.ones(n), (user_data.encoded_user_id, user_data.encoded_ad_id) ) ,shape=[nu,na])\n",
    "user_ad_mat = user_ad_mat.tocsr()"
   ]
  },
  {
   "cell_type": "code",
   "execution_count": 9,
   "metadata": {
    "collapsed": true
   },
   "outputs": [],
   "source": [
    "nc = len(pd.unique(ads_data.category_id))\n",
    "n = ads_data.shape[0]\n",
    "ad_cat_mat = sparse.coo_matrix( ( np.ones(n), ( ads_data.encoded_ad_id, ads_data.encoded_category_id )  ), shape=[na,nc] )\n",
    "ad_cat_mat = ad_cat_mat.tocsr()"
   ]
  },
  {
   "cell_type": "markdown",
   "metadata": {},
   "source": [
    "## M1 = U-A-U-A\n",
    "## M2 = U-A-U-A-U-A\n",
    "## M3 = U-A-C-A\n",
    "## M4 = U-A-C-A-U-A"
   ]
  },
  {
   "cell_type": "code",
   "execution_count": 16,
   "metadata": {
    "collapsed": true
   },
   "outputs": [],
   "source": [
    "from scipy.io import savemat\n",
    "from scipy.io import loadmat"
   ]
  },
  {
   "cell_type": "code",
   "execution_count": 17,
   "metadata": {
    "collapsed": false
   },
   "outputs": [],
   "source": [
    "savemat('matrices', {'user_ad_mat': user_ad_mat, 'ad_cat_mat': ad_cat_mat})"
   ]
  },
  {
   "cell_type": "code",
   "execution_count": 15,
   "metadata": {
    "collapsed": false
   },
   "outputs": [
    {
     "data": {
      "text/plain": [
       "<10x10 sparse matrix of type '<type 'numpy.float64'>'\n",
       "\twith 10 stored elements in Compressed Sparse Column format>"
      ]
     },
     "execution_count": 15,
     "metadata": {},
     "output_type": "execute_result"
    }
   ],
   "source": [
    "M3"
   ]
  },
  {
   "cell_type": "code",
   "execution_count": null,
   "metadata": {
    "collapsed": true
   },
   "outputs": [],
   "source": []
  },
  {
   "cell_type": "code",
   "execution_count": null,
   "metadata": {
    "collapsed": true
   },
   "outputs": [],
   "source": []
  },
  {
   "cell_type": "code",
   "execution_count": null,
   "metadata": {
    "collapsed": false
   },
   "outputs": [],
   "source": [
    "user_data.replace(to_replace={'event':{'view':0, 'first_message':1}}, inplace=True)\n",
    "user_data.replace(to_replace={'origin':{'browse_search':0, 'search':0, 'browse':0, 'home':1,\n",
    "                                       'notification_center':1, 'push':2, 'drawer':2, 'deeplink':1}}, inplace=True)\n"
   ]
  },
  {
   "cell_type": "code",
   "execution_count": null,
   "metadata": {
    "collapsed": true
   },
   "outputs": [],
   "source": [
    "user_data['event_time'] = pd.to_datetime(user_data.event_time)\n",
    "user_data['event_month'] = user_data['event_time'].dt.month\n",
    "user_data['event_day'] = user_data['event_time'].dt.day\n",
    "user_data['hour'] = user_data['event_time'].dt.hour"
   ]
  },
  {
   "cell_type": "code",
   "execution_count": null,
   "metadata": {
    "collapsed": true
   },
   "outputs": [],
   "source": [
    "ad_id = ads_data['ad_id']\n",
    "dat = ads_data['category_id']\n",
    "augmented_ads_data = pd.DataFrame(data=np.array(dat), index=ad_id)"
   ]
  },
  {
   "cell_type": "code",
   "execution_count": null,
   "metadata": {
    "collapsed": false
   },
   "outputs": [],
   "source": [
    "from sklearn.preprocessing import StandardScaler\n",
    "from sklearn.preprocessing import MinMaxScaler"
   ]
  },
  {
   "cell_type": "code",
   "execution_count": null,
   "metadata": {
    "collapsed": false
   },
   "outputs": [],
   "source": [
    "cols_norm = ['ad_messages', 'ad_views', 'ad_impressions']\n",
    "n_cols_norm = ['n_' + x for x in cols_norm]\n",
    "user_data[n_cols_norm] = user_data[cols_norm].apply(lambda x: (x-x.min())/(x.max()-x.min()))"
   ]
  },
  {
   "cell_type": "code",
   "execution_count": null,
   "metadata": {
    "collapsed": false
   },
   "outputs": [],
   "source": [
    "ratio = [0.85, 0.2, 0.15]\n",
    "i=0\n",
    "temp = pd.Series(np.zeros([user_data.shape[0]]) )\n",
    "for label in n_cols_norm:\n",
    "    temp += ratio[i]*user_data[label]\n",
    "    i+=1\n",
    "\n",
    "user_data['composition']=temp"
   ]
  },
  {
   "cell_type": "code",
   "execution_count": null,
   "metadata": {
    "collapsed": true
   },
   "outputs": [],
   "source": [
    "# user_data = user_data.sort_values(by=['origin', 'event_month', 'event_day', 'ad_messages', 'ad_views', 'ad_impressions'], ascending=[True, False, False, False, False, False])\n",
    "# user_data = user_data.sort_values(by=['origin','composition'], ascending=[True, False])\n",
    "user_data = user_data.sort_values(by=['event_day', 'ad_messages', 'ad_views', 'ad_impressions', 'event'], ascending=[ False, False, False, False, False])\n"
   ]
  },
  {
   "cell_type": "code",
   "execution_count": null,
   "metadata": {
    "collapsed": false
   },
   "outputs": [],
   "source": [
    "a = augmented_ads_data.loc[np.array(user_data['ad_id'])] "
   ]
  },
  {
   "cell_type": "code",
   "execution_count": null,
   "metadata": {
    "collapsed": false
   },
   "outputs": [],
   "source": [
    "ads_for_cat={}\n",
    "for c in pd.unique(user_messages_test.category_id):\n",
    "    ad_id_for_c = a.loc[a[0]==c]     #  refer above cell for a\n",
    "    ads_for_cat[c] = list(ad_id_for_c.index.drop_duplicates()[:10])\n",
    "    "
   ]
  },
  {
   "cell_type": "code",
   "execution_count": null,
   "metadata": {
    "collapsed": true
   },
   "outputs": [],
   "source": [
    "ads_id = pd.Series(np.array(np.arange(user_messages_test.shape[0])))\n",
    "i=0\n",
    "for u, c in user_messages_test.values:\n",
    "    b = user_data.loc[user_data.user_id==u]\n",
    "#     b = b.sort_values(by=['ad_messages', 'ad_views', 'ad_impressions'], ascending=[False, False, False])\n",
    "    user_ads = pd.unique(b['ad_id'])\n",
    "    \n",
    "    category_ads = ads_data.loc[ads_data.category_id==c]\n",
    "    cate_ads = pd.unique(category_ads['ad_id'])\n",
    "    temp=[]\n",
    "    j=0\n",
    "    for ad in user_ads:\n",
    "        if (ad in cate_ads and j<10):\n",
    "            temp.append(ad)\n",
    "            j+=1\n",
    "    \n",
    "    t0 = len(temp)\n",
    "    if(t0<10):\n",
    "        t1 = 10-t0\n",
    "        t2 = ads_for_cat.get(c)[:t1]\n",
    "        temp = temp + t2\n",
    "#     print len(temp)\n",
    "    ads_id[i] = str(temp)\n",
    "    \n",
    "    i+=1\n",
    "    \n",
    "    \n",
    "    "
   ]
  },
  {
   "cell_type": "code",
   "execution_count": null,
   "metadata": {
    "collapsed": true
   },
   "outputs": [],
   "source": [
    "submission = user_messages_test.copy()\n",
    "submission['ads'] = ads_id"
   ]
  },
  {
   "cell_type": "code",
   "execution_count": null,
   "metadata": {
    "collapsed": true
   },
   "outputs": [],
   "source": [
    "submission.to_csv('neww_subm16.csv', index=False)"
   ]
  },
  {
   "cell_type": "markdown",
   "metadata": {},
   "source": [
    "## ----------------------------------------------------------------------------------------------------------------------------------"
   ]
  },
  {
   "cell_type": "code",
   "execution_count": null,
   "metadata": {
    "collapsed": false
   },
   "outputs": [],
   "source": [
    "user_messages = pd.read_csv('Data/user_messages.csv')\n",
    "i=0\n",
    "for (u,c, l in user_messages.values and i<5):\n",
    "    user_data.loc[np.logical_and(user_data.user_id==u)]\n",
    "    i+=1"
   ]
  }
 ],
 "metadata": {
  "kernelspec": {
   "display_name": "Python 2",
   "language": "python",
   "name": "python2"
  },
  "language_info": {
   "codemirror_mode": {
    "name": "ipython",
    "version": 2
   },
   "file_extension": ".py",
   "mimetype": "text/x-python",
   "name": "python",
   "nbconvert_exporter": "python",
   "pygments_lexer": "ipython2",
   "version": "2.7.13"
  }
 },
 "nbformat": 4,
 "nbformat_minor": 2
}
