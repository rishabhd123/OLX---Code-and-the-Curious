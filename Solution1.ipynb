{
 "cells": [
  {
   "cell_type": "code",
   "execution_count": 1,
   "metadata": {
    "collapsed": true
   },
   "outputs": [],
   "source": [
    "import numpy as np\n",
    "import pandas as pd\n",
    "\n",
    "from IPython.core.interactiveshell import InteractiveShell\n",
    "InteractiveShell.ast_node_interactivity = \"all\""
   ]
  },
  {
   "cell_type": "code",
   "execution_count": 2,
   "metadata": {
    "collapsed": true
   },
   "outputs": [],
   "source": [
    "user_data = pd.read_csv('Data/user_data.csv')\n",
    "ads_data = pd.read_csv('Data/ads_data.csv')\n",
    "user_messages = pd.read_csv('Data/user_messages.csv')\n",
    "user_messages_test = pd.read_csv('Data/user_messages_test.csv')\n",
    "ads_data = ads_data.loc[ads_data.enabled==1]\n",
    "ads_data.reset_index(drop=True, inplace=True)"
   ]
  },
  {
   "cell_type": "code",
   "execution_count": 3,
   "metadata": {
    "collapsed": false,
    "scrolled": false
   },
   "outputs": [
    {
     "data": {
      "text/html": [
       "<div>\n",
       "<style>\n",
       "    .dataframe thead tr:only-child th {\n",
       "        text-align: right;\n",
       "    }\n",
       "\n",
       "    .dataframe thead th {\n",
       "        text-align: left;\n",
       "    }\n",
       "\n",
       "    .dataframe tbody tr th {\n",
       "        vertical-align: top;\n",
       "    }\n",
       "</style>\n",
       "<table border=\"1\" class=\"dataframe\">\n",
       "  <thead>\n",
       "    <tr style=\"text-align: right;\">\n",
       "      <th></th>\n",
       "      <th>event_time</th>\n",
       "      <th>user_id</th>\n",
       "      <th>event</th>\n",
       "      <th>channel</th>\n",
       "      <th>user_lat</th>\n",
       "      <th>user_long</th>\n",
       "      <th>origin</th>\n",
       "      <th>ad_id</th>\n",
       "      <th>images_count</th>\n",
       "      <th>ad_impressions</th>\n",
       "      <th>ad_views</th>\n",
       "      <th>ad_messages</th>\n",
       "    </tr>\n",
       "  </thead>\n",
       "  <tbody>\n",
       "    <tr>\n",
       "      <th>0</th>\n",
       "      <td>2017-05-19 10:47:22</td>\n",
       "      <td>541</td>\n",
       "      <td>view</td>\n",
       "      <td>ios</td>\n",
       "      <td>-34.600439</td>\n",
       "      <td>-58.514031</td>\n",
       "      <td>browse_search</td>\n",
       "      <td>2426321</td>\n",
       "      <td>6.0</td>\n",
       "      <td>0.0</td>\n",
       "      <td>4.0</td>\n",
       "      <td>0.0</td>\n",
       "    </tr>\n",
       "    <tr>\n",
       "      <th>1</th>\n",
       "      <td>2017-06-10 10:18:12</td>\n",
       "      <td>501</td>\n",
       "      <td>view</td>\n",
       "      <td>android</td>\n",
       "      <td>-34.818047</td>\n",
       "      <td>-58.356583</td>\n",
       "      <td>browse_search</td>\n",
       "      <td>2746814</td>\n",
       "      <td>5.0</td>\n",
       "      <td>152.0</td>\n",
       "      <td>85.0</td>\n",
       "      <td>1.0</td>\n",
       "    </tr>\n",
       "    <tr>\n",
       "      <th>2</th>\n",
       "      <td>2017-06-11 00:44:57</td>\n",
       "      <td>559</td>\n",
       "      <td>view</td>\n",
       "      <td>android</td>\n",
       "      <td>-34.688454</td>\n",
       "      <td>-58.333435</td>\n",
       "      <td>browse</td>\n",
       "      <td>1123948</td>\n",
       "      <td>4.0</td>\n",
       "      <td>899.0</td>\n",
       "      <td>22.0</td>\n",
       "      <td>1.0</td>\n",
       "    </tr>\n",
       "    <tr>\n",
       "      <th>3</th>\n",
       "      <td>2017-05-22 02:36:06</td>\n",
       "      <td>637</td>\n",
       "      <td>first_message</td>\n",
       "      <td>android</td>\n",
       "      <td>-34.548401</td>\n",
       "      <td>-58.485168</td>\n",
       "      <td>search</td>\n",
       "      <td>2273498</td>\n",
       "      <td>NaN</td>\n",
       "      <td>0.0</td>\n",
       "      <td>21.0</td>\n",
       "      <td>2.0</td>\n",
       "    </tr>\n",
       "    <tr>\n",
       "      <th>4</th>\n",
       "      <td>2017-06-08 15:45:35</td>\n",
       "      <td>509</td>\n",
       "      <td>view</td>\n",
       "      <td>android</td>\n",
       "      <td>-34.582088</td>\n",
       "      <td>-58.405041</td>\n",
       "      <td>home</td>\n",
       "      <td>2722493</td>\n",
       "      <td>3.0</td>\n",
       "      <td>1529.0</td>\n",
       "      <td>132.0</td>\n",
       "      <td>3.0</td>\n",
       "    </tr>\n",
       "  </tbody>\n",
       "</table>\n",
       "</div>"
      ],
      "text/plain": [
       "            event_time  user_id          event  channel   user_lat  user_long  \\\n",
       "0  2017-05-19 10:47:22      541           view      ios -34.600439 -58.514031   \n",
       "1  2017-06-10 10:18:12      501           view  android -34.818047 -58.356583   \n",
       "2  2017-06-11 00:44:57      559           view  android -34.688454 -58.333435   \n",
       "3  2017-05-22 02:36:06      637  first_message  android -34.548401 -58.485168   \n",
       "4  2017-06-08 15:45:35      509           view  android -34.582088 -58.405041   \n",
       "\n",
       "          origin    ad_id  images_count  ad_impressions  ad_views  ad_messages  \n",
       "0  browse_search  2426321           6.0             0.0       4.0          0.0  \n",
       "1  browse_search  2746814           5.0           152.0      85.0          1.0  \n",
       "2         browse  1123948           4.0           899.0      22.0          1.0  \n",
       "3         search  2273498           NaN             0.0      21.0          2.0  \n",
       "4           home  2722493           3.0          1529.0     132.0          3.0  "
      ]
     },
     "execution_count": 3,
     "metadata": {},
     "output_type": "execute_result"
    },
    {
     "data": {
      "text/html": [
       "<div>\n",
       "<style>\n",
       "    .dataframe thead tr:only-child th {\n",
       "        text-align: right;\n",
       "    }\n",
       "\n",
       "    .dataframe thead th {\n",
       "        text-align: left;\n",
       "    }\n",
       "\n",
       "    .dataframe tbody tr th {\n",
       "        vertical-align: top;\n",
       "    }\n",
       "</style>\n",
       "<table border=\"1\" class=\"dataframe\">\n",
       "  <thead>\n",
       "    <tr style=\"text-align: right;\">\n",
       "      <th></th>\n",
       "      <th>ad_id</th>\n",
       "      <th>category_id</th>\n",
       "      <th>seller_id</th>\n",
       "      <th>creation_time</th>\n",
       "      <th>title</th>\n",
       "      <th>description</th>\n",
       "      <th>price</th>\n",
       "      <th>lat</th>\n",
       "      <th>long</th>\n",
       "      <th>source</th>\n",
       "      <th>enabled</th>\n",
       "    </tr>\n",
       "  </thead>\n",
       "  <tbody>\n",
       "    <tr>\n",
       "      <th>0</th>\n",
       "      <td>3916</td>\n",
       "      <td>815</td>\n",
       "      <td>59</td>\n",
       "      <td>2015-12-16 09:09:25</td>\n",
       "      <td>Remera marca premium alemana</td>\n",
       "      <td>Casi nuevo y sin uso. Lo compre online y me qu...</td>\n",
       "      <td>150.0</td>\n",
       "      <td>NaN</td>\n",
       "      <td>NaN</td>\n",
       "      <td>android</td>\n",
       "      <td>1</td>\n",
       "    </tr>\n",
       "    <tr>\n",
       "      <th>1</th>\n",
       "      <td>11738</td>\n",
       "      <td>806</td>\n",
       "      <td>12298</td>\n",
       "      <td>2016-01-19 18:38:24</td>\n",
       "      <td>Juego de sillones estilo campo</td>\n",
       "      <td>Divino juego de sillones de diseño campo</td>\n",
       "      <td>1500.0</td>\n",
       "      <td>NaN</td>\n",
       "      <td>NaN</td>\n",
       "      <td>android</td>\n",
       "      <td>1</td>\n",
       "    </tr>\n",
       "    <tr>\n",
       "      <th>2</th>\n",
       "      <td>26552</td>\n",
       "      <td>800</td>\n",
       "      <td>2586</td>\n",
       "      <td>2016-02-27 18:53:19</td>\n",
       "      <td>Radio para tu auto wv con dos</td>\n",
       "      <td>Esta en perfecto estado lo saque de mi auto co...</td>\n",
       "      <td>1200.0</td>\n",
       "      <td>-34.603989</td>\n",
       "      <td>-58.458111</td>\n",
       "      <td>android</td>\n",
       "      <td>1</td>\n",
       "    </tr>\n",
       "    <tr>\n",
       "      <th>3</th>\n",
       "      <td>29177</td>\n",
       "      <td>811</td>\n",
       "      <td>4436</td>\n",
       "      <td>2016-03-01 19:47:02</td>\n",
       "      <td>Pantalla para Netbook</td>\n",
       "      <td>Pantalla para netbook Acer, Aspire One modelo ...</td>\n",
       "      <td>800.0</td>\n",
       "      <td>-34.550674</td>\n",
       "      <td>-58.465057</td>\n",
       "      <td>android</td>\n",
       "      <td>1</td>\n",
       "    </tr>\n",
       "    <tr>\n",
       "      <th>4</th>\n",
       "      <td>30228</td>\n",
       "      <td>806</td>\n",
       "      <td>28747</td>\n",
       "      <td>2016-03-03 01:07:07</td>\n",
       "      <td>2 Estufas eskabe 5500 k</td>\n",
       "      <td>Estufa de tiro balanceado Eskabe 5500 k . Muy ...</td>\n",
       "      <td>1000.0</td>\n",
       "      <td>NaN</td>\n",
       "      <td>NaN</td>\n",
       "      <td>android</td>\n",
       "      <td>1</td>\n",
       "    </tr>\n",
       "  </tbody>\n",
       "</table>\n",
       "</div>"
      ],
      "text/plain": [
       "   ad_id  category_id  seller_id        creation_time  \\\n",
       "0   3916          815         59  2015-12-16 09:09:25   \n",
       "1  11738          806      12298  2016-01-19 18:38:24   \n",
       "2  26552          800       2586  2016-02-27 18:53:19   \n",
       "3  29177          811       4436  2016-03-01 19:47:02   \n",
       "4  30228          806      28747  2016-03-03 01:07:07   \n",
       "\n",
       "                            title  \\\n",
       "0    Remera marca premium alemana   \n",
       "1  Juego de sillones estilo campo   \n",
       "2   Radio para tu auto wv con dos   \n",
       "3           Pantalla para Netbook   \n",
       "4         2 Estufas eskabe 5500 k   \n",
       "\n",
       "                                         description   price        lat  \\\n",
       "0  Casi nuevo y sin uso. Lo compre online y me qu...   150.0        NaN   \n",
       "1           Divino juego de sillones de diseño campo  1500.0        NaN   \n",
       "2  Esta en perfecto estado lo saque de mi auto co...  1200.0 -34.603989   \n",
       "3  Pantalla para netbook Acer, Aspire One modelo ...   800.0 -34.550674   \n",
       "4  Estufa de tiro balanceado Eskabe 5500 k . Muy ...  1000.0        NaN   \n",
       "\n",
       "        long   source  enabled  \n",
       "0        NaN  android        1  \n",
       "1        NaN  android        1  \n",
       "2 -58.458111  android        1  \n",
       "3 -58.465057  android        1  \n",
       "4        NaN  android        1  "
      ]
     },
     "execution_count": 3,
     "metadata": {},
     "output_type": "execute_result"
    }
   ],
   "source": [
    "\n",
    "# user_data.loc[user_data.event==1]['images_count']\n",
    "\n",
    "user_data.head()\n",
    "# ads_data.head()\n",
    "# user_messages.head()\n",
    "# user_messages_test.head()\n",
    "# pd.unique(user_data.origin)\n",
    "# user_data.shape\n",
    "# len(pd.unique(ads_data.ad_id))\n",
    "# user_data.loc[user_data.user_id==541]\n",
    "\n",
    "ads_data.head()"
   ]
  },
  {
   "cell_type": "code",
   "execution_count": 4,
   "metadata": {
    "collapsed": false
   },
   "outputs": [
    {
     "data": {
      "text/plain": [
       "535651"
      ]
     },
     "execution_count": 4,
     "metadata": {},
     "output_type": "execute_result"
    },
    {
     "data": {
      "text/plain": [
       "12365"
      ]
     },
     "execution_count": 4,
     "metadata": {},
     "output_type": "execute_result"
    },
    {
     "data": {
      "text/plain": [
       "52534"
      ]
     },
     "execution_count": 4,
     "metadata": {},
     "output_type": "execute_result"
    }
   ],
   "source": [
    "len(pd.unique(user_data.ad_id))\n",
    "len(pd.unique(user_data.user_id))\n",
    "np.sum(user_data.channel=='desktop')"
   ]
  },
  {
   "cell_type": "code",
   "execution_count": 5,
   "metadata": {
    "collapsed": false
   },
   "outputs": [],
   "source": [
    "user_data.replace(to_replace={'event':{'view':0, 'first_message':1}}, inplace=True)\n",
    "user_data.replace(to_replace={'origin':{'browse_search':0, 'search':0, 'browse':0, 'home':1,\n",
    "                                       'notification_center':1, 'push':2, 'drawer':2, 'deeplink':1}}, inplace=True)\n",
    "user_data.replace(to_replace={'channel': {'android': 0, 'ios':1, 'desktop':2}}, inplace=True )\n"
   ]
  },
  {
   "cell_type": "code",
   "execution_count": 6,
   "metadata": {
    "collapsed": true
   },
   "outputs": [],
   "source": [
    "user_data['event_time'] = pd.to_datetime(user_data.event_time)\n",
    "user_data['event_month'] = user_data['event_time'].dt.month\n",
    "user_data['event_day'] = user_data['event_time'].dt.day\n",
    "user_data['hour'] = user_data['event_time'].dt.hour"
   ]
  },
  {
   "cell_type": "code",
   "execution_count": 7,
   "metadata": {
    "collapsed": true
   },
   "outputs": [],
   "source": [
    "ad_id = ads_data['ad_id']\n",
    "dat = ads_data['category_id']\n",
    "augmented_ads_data = pd.DataFrame(data=np.array(dat), index=ad_id)"
   ]
  },
  {
   "cell_type": "code",
   "execution_count": 8,
   "metadata": {
    "collapsed": false
   },
   "outputs": [],
   "source": [
    "from sklearn.preprocessing import StandardScaler\n",
    "from sklearn.preprocessing import MinMaxScaler"
   ]
  },
  {
   "cell_type": "code",
   "execution_count": 9,
   "metadata": {
    "collapsed": false
   },
   "outputs": [],
   "source": [
    "cols_norm = ['ad_messages', 'ad_views', 'ad_impressions']\n",
    "n_cols_norm = ['n_' + x for x in cols_norm]\n",
    "user_data[n_cols_norm] = user_data[cols_norm].apply(lambda x: (x-x.min())/(x.max()-x.min()))"
   ]
  },
  {
   "cell_type": "code",
   "execution_count": 10,
   "metadata": {
    "collapsed": false
   },
   "outputs": [],
   "source": [
    "ratio = [0.85, 0.2, 0.15]\n",
    "i=0\n",
    "temp = pd.Series(np.zeros([user_data.shape[0]]) )\n",
    "for label in n_cols_norm:\n",
    "    temp += ratio[i]*user_data[label]\n",
    "    i+=1\n",
    "\n",
    "user_data['composition']=temp"
   ]
  },
  {
   "cell_type": "code",
   "execution_count": 17,
   "metadata": {
    "collapsed": true
   },
   "outputs": [],
   "source": [
    "# user_data = user_data.sort_values(by=['origin', 'event_month', 'event_day', 'ad_messages', 'ad_views', 'ad_impressions'], ascending=[True, False, False, False, False, False])\n",
    "# user_data = user_data.sort_values(by=['origin','composition'], ascending=[True, False])\n",
    "user_data = user_data.sort_values(by=['event_month', 'event_day', 'ad_messages', 'ad_views', 'ad_impressions', 'images_count', 'event'], ascending=[ False, False, False, False, False, False, False])\n",
    "# , 'ad_impressions', 'event'"
   ]
  },
  {
   "cell_type": "code",
   "execution_count": 18,
   "metadata": {
    "collapsed": false
   },
   "outputs": [],
   "source": [
    "a = augmented_ads_data.loc[np.array(user_data['ad_id'])] "
   ]
  },
  {
   "cell_type": "code",
   "execution_count": 19,
   "metadata": {
    "collapsed": false
   },
   "outputs": [],
   "source": [
    "ads_for_cat={}\n",
    "for c in pd.unique(user_messages_test.category_id):\n",
    "    ad_id_for_c = a.loc[a[0]==c]     #  refer above cell for a\n",
    "    ads_for_cat[c] = list(ad_id_for_c.index.drop_duplicates()[:10])\n",
    "    "
   ]
  },
  {
   "cell_type": "code",
   "execution_count": 20,
   "metadata": {
    "collapsed": true
   },
   "outputs": [],
   "source": [
    "ads_id = pd.Series(np.array(np.arange(user_messages_test.shape[0])))\n",
    "i=0\n",
    "for u, c in user_messages_test.values:\n",
    "    b = user_data.loc[user_data.user_id==u]\n",
    "#     b = b.sort_values(by=['ad_messages', 'ad_views', 'ad_impressions'], ascending=[False, False, False])\n",
    "    user_ads = pd.unique(b['ad_id'])\n",
    "    \n",
    "    category_ads = ads_data.loc[ads_data.category_id==c]\n",
    "    cate_ads = pd.unique(category_ads['ad_id'])\n",
    "    temp=[]\n",
    "    j=0\n",
    "    for ad in user_ads:\n",
    "        if (ad in cate_ads and j<10):\n",
    "            temp.append(ad)\n",
    "            j+=1\n",
    "    \n",
    "    t0 = len(temp)\n",
    "    if(t0<10):\n",
    "        t1 = 10-t0\n",
    "        t2 = ads_for_cat.get(c)[:t1]\n",
    "        temp = temp + t2\n",
    "#     print len(temp)\n",
    "    ads_id[i] = str(temp)\n",
    "    \n",
    "    i+=1\n",
    "    \n",
    "    \n",
    "    "
   ]
  },
  {
   "cell_type": "code",
   "execution_count": 21,
   "metadata": {
    "collapsed": true
   },
   "outputs": [],
   "source": [
    "submission = user_messages_test.copy()\n",
    "submission['ads'] = ads_id"
   ]
  },
  {
   "cell_type": "code",
   "execution_count": 22,
   "metadata": {
    "collapsed": true
   },
   "outputs": [],
   "source": [
    "submission.to_csv('subm.csv', index=False)"
   ]
  },
  {
   "cell_type": "markdown",
   "metadata": {},
   "source": [
    "## ----------------------------------------------------------------------------------------------------------------------------------"
   ]
  }
 ],
 "metadata": {
  "kernelspec": {
   "display_name": "Python 2",
   "language": "python",
   "name": "python2"
  },
  "language_info": {
   "codemirror_mode": {
    "name": "ipython",
    "version": 2
   },
   "file_extension": ".py",
   "mimetype": "text/x-python",
   "name": "python",
   "nbconvert_exporter": "python",
   "pygments_lexer": "ipython2",
   "version": "2.7.13"
  }
 },
 "nbformat": 4,
 "nbformat_minor": 2
}
